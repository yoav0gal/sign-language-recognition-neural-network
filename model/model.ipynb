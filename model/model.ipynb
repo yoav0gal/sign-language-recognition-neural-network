{
 "cells": [
  {
   "cell_type": "markdown",
   "metadata": {
    "id": "JLkWLC8f3HZI"
   },
   "source": [
    "## Sign Language Digits With NumPy\n",
    "Sign Language Digits dataset contains 5,000 grayscale images in 10 categories. The images show individual articles of hand sign at low resolution (28 by 28 pixels), as seen here:\n",
    "\n",
    "<table>\n",
    "  <tr><td>\n",
    "    <img src=\"https://www.researchgate.net/publication/344389112/figure/fig8/AS:941467451260937@1601474740275/Sample-images-from-ASL-with-digits-dataset.png\"\n",
    "         alt=\"Fashion MNIST sprite\"  width=\"600\">\n",
    "  </td></tr>\n",
    "  \n",
    "</table>\n",
    "\n"
   ]
  },
  {
   "cell_type": "markdown",
   "metadata": {
    "id": "WiRxNFCn3Vxd"
   },
   "source": [
    "\n",
    "\n",
    "The images are 28x28 NumPy arrays, with pixel values ranging between 0 and 255. The *labels* are an array of numbers ranging from '0' to '9'. These correspond to the *class* of hand sign digit the image represents:\n",
    "\n",
    "<table>\n",
    "  <tr>\n",
    "    <th>Label</th>\n",
    "    <th>Class</th>\n",
    "  </tr>\n",
    "  <tr>\n",
    "    <td>0</td>\n",
    "    <td>Hand Sign Zero</td>\n",
    "  </tr>\n",
    "  <tr>\n",
    "    <td>1</td>\n",
    "    <td>Hand Sign One</td>\n",
    "  </tr>\n",
    "    <tr>\n",
    "    <td>2</td>\n",
    "    <td>Hand Sign Two</td>\n",
    "  </tr>\n",
    "    <tr>\n",
    "    <td>3</td>\n",
    "    <td>Hand Sign Three</td>\n",
    "  </tr>\n",
    "    <tr>\n",
    "    <td>4</td>\n",
    "    <td>Hand Sign Four</td>\n",
    "  </tr>\n",
    "    <tr>\n",
    "    <td>5</td>\n",
    "    <td>Hand Sign Five</td>\n",
    "  </tr>\n",
    "    <tr>\n",
    "    <td>6</td>\n",
    "    <td>Hand Sign Six</td>\n",
    "  </tr>\n",
    "    <tr>\n",
    "    <td>7</td>\n",
    "    <td>Hand Sign Seven</td>\n",
    "  </tr>\n",
    "    <tr>\n",
    "    <td>8</td>\n",
    "    <td>Hand Sign Eight</td>\n",
    "  </tr>\n",
    "    <tr>\n",
    "    <td>9</td>\n",
    "    <td>Hand Sign Nine</td>\n",
    "  </tr>\n",
    "</table>\n",
    "\n",
    "<br>\n",
    "\n",
    "# Goodluck!"
   ]
  },
  {
   "cell_type": "markdown",
   "metadata": {
    "collapsed": false,
    "id": "4K84YZ_QU8Fv"
   },
   "source": [
    "#Neural Network in plain NumPy"
   ]
  },
  {
   "cell_type": "markdown",
   "metadata": {
    "id": "QReFpU112hLT"
   },
   "source": [
    "## Import Libraries"
   ]
  },
  {
   "cell_type": "code",
   "execution_count": 11,
   "metadata": {
    "id": "tLOHjUiFU8Fv",
    "pycharm": {
     "name": "#%%\n"
    }
   },
   "outputs": [
    {
     "name": "stdout",
     "output_type": "stream",
     "text": [
      "time: 0 ns (started: 2024-12-29 17:54:47 +02:00)\n"
     ]
    }
   ],
   "source": [
    "import numpy as np\n",
    "import matplotlib\n",
    "import matplotlib.pyplot as plt\n",
    "from sklearn.datasets import fetch_openml\n",
    "from sklearn.metrics import classification_report, confusion_matrix"
   ]
  },
  {
   "cell_type": "markdown",
   "metadata": {
    "id": "D5MsCpUv2tuj"
   },
   "source": [
    "## Dwonload Dataset"
   ]
  },
  {
   "cell_type": "code",
   "execution_count": 12,
   "metadata": {
    "colab": {
     "base_uri": "https://localhost:8080/"
    },
    "id": "SiM-d_4cV1aZ",
    "outputId": "08e10684-ddba-4b13-e64b-5eef8a9190de"
   },
   "outputs": [
    {
     "name": "stdout",
     "output_type": "stream",
     "text": [
      "Requirement already satisfied: ipython-autotime in c:\\users\\user\\appdata\\local\\programs\\python\\python310\\lib\\site-packages (0.3.2)\n",
      "Requirement already satisfied: ipython in c:\\users\\user\\appdata\\roaming\\python\\python310\\site-packages (from ipython-autotime) (8.29.0)\n",
      "Requirement already satisfied: decorator in c:\\users\\user\\appdata\\roaming\\python\\python310\\site-packages (from ipython->ipython-autotime) (5.1.1)\n",
      "Requirement already satisfied: jedi>=0.16 in c:\\users\\user\\appdata\\roaming\\python\\python310\\site-packages (from ipython->ipython-autotime) (0.19.1)\n",
      "Requirement already satisfied: matplotlib-inline in c:\\users\\user\\appdata\\roaming\\python\\python310\\site-packages (from ipython->ipython-autotime) (0.1.7)\n",
      "Requirement already satisfied: prompt-toolkit<3.1.0,>=3.0.41 in c:\\users\\user\\appdata\\roaming\\python\\python310\\site-packages (from ipython->ipython-autotime) (3.0.48)\n",
      "Requirement already satisfied: pygments>=2.4.0 in c:\\users\\user\\appdata\\roaming\\python\\python310\\site-packages (from ipython->ipython-autotime) (2.18.0)\n",
      "Requirement already satisfied: stack-data in c:\\users\\user\\appdata\\roaming\\python\\python310\\site-packages (from ipython->ipython-autotime) (0.6.3)\n",
      "Requirement already satisfied: traitlets>=5.13.0 in c:\\users\\user\\appdata\\roaming\\python\\python310\\site-packages (from ipython->ipython-autotime) (5.14.3)\n",
      "Requirement already satisfied: exceptiongroup in c:\\users\\user\\appdata\\local\\programs\\python\\python310\\lib\\site-packages (from ipython->ipython-autotime) (1.2.2)\n",
      "Requirement already satisfied: typing-extensions>=4.6 in c:\\users\\user\\appdata\\local\\programs\\python\\python310\\lib\\site-packages (from ipython->ipython-autotime) (4.12.2)\n",
      "Requirement already satisfied: colorama in c:\\users\\user\\appdata\\local\\programs\\python\\python310\\lib\\site-packages (from ipython->ipython-autotime) (0.4.6)\n",
      "Requirement already satisfied: parso<0.9.0,>=0.8.3 in c:\\users\\user\\appdata\\roaming\\python\\python310\\site-packages (from jedi>=0.16->ipython->ipython-autotime) (0.8.4)\n",
      "Requirement already satisfied: wcwidth in c:\\users\\user\\appdata\\roaming\\python\\python310\\site-packages (from prompt-toolkit<3.1.0,>=3.0.41->ipython->ipython-autotime) (0.2.13)\n",
      "Requirement already satisfied: executing>=1.2.0 in c:\\users\\user\\appdata\\roaming\\python\\python310\\site-packages (from stack-data->ipython->ipython-autotime) (2.1.0)\n",
      "Requirement already satisfied: asttokens>=2.1.0 in c:\\users\\user\\appdata\\roaming\\python\\python310\\site-packages (from stack-data->ipython->ipython-autotime) (2.4.1)\n",
      "Requirement already satisfied: pure-eval in c:\\users\\user\\appdata\\roaming\\python\\python310\\site-packages (from stack-data->ipython->ipython-autotime) (0.2.3)\n",
      "Requirement already satisfied: six>=1.12.0 in c:\\users\\user\\appdata\\local\\programs\\python\\python310\\lib\\site-packages (from asttokens>=2.1.0->stack-data->ipython->ipython-autotime) (1.16.0)\n",
      "Requirement already satisfied: gdown in c:\\users\\user\\appdata\\local\\programs\\python\\python310\\lib\\site-packages (5.2.0)\n",
      "Requirement already satisfied: beautifulsoup4 in c:\\users\\user\\appdata\\local\\programs\\python\\python310\\lib\\site-packages (from gdown) (4.12.3)\n",
      "Requirement already satisfied: filelock in c:\\users\\user\\appdata\\local\\programs\\python\\python310\\lib\\site-packages (from gdown) (3.16.1)\n",
      "Requirement already satisfied: requests[socks] in c:\\users\\user\\appdata\\local\\programs\\python\\python310\\lib\\site-packages (from gdown) (2.32.3)\n",
      "Requirement already satisfied: tqdm in c:\\users\\user\\appdata\\local\\programs\\python\\python310\\lib\\site-packages (from gdown) (4.66.4)\n",
      "Requirement already satisfied: soupsieve>1.2 in c:\\users\\user\\appdata\\local\\programs\\python\\python310\\lib\\site-packages (from beautifulsoup4->gdown) (2.6)\n",
      "Requirement already satisfied: charset-normalizer<4,>=2 in c:\\users\\user\\appdata\\local\\programs\\python\\python310\\lib\\site-packages (from requests[socks]->gdown) (3.4.0)\n",
      "Requirement already satisfied: idna<4,>=2.5 in c:\\users\\user\\appdata\\local\\programs\\python\\python310\\lib\\site-packages (from requests[socks]->gdown) (3.7)\n",
      "Requirement already satisfied: urllib3<3,>=1.21.1 in c:\\users\\user\\appdata\\local\\programs\\python\\python310\\lib\\site-packages (from requests[socks]->gdown) (2.2.3)\n",
      "Requirement already satisfied: certifi>=2017.4.17 in c:\\users\\user\\appdata\\local\\programs\\python\\python310\\lib\\site-packages (from requests[socks]->gdown) (2024.7.4)\n",
      "Requirement already satisfied: PySocks!=1.5.7,>=1.5.6 in c:\\users\\user\\appdata\\local\\programs\\python\\python310\\lib\\site-packages (from requests[socks]->gdown) (1.7.1)\n",
      "Requirement already satisfied: colorama in c:\\users\\user\\appdata\\local\\programs\\python\\python310\\lib\\site-packages (from tqdm->gdown) (0.4.6)\n",
      "time: 9.09 s (started: 2024-12-29 17:54:47 +02:00)\n"
     ]
    },
    {
     "name": "stderr",
     "output_type": "stream",
     "text": [
      "C:\\Users\\user\\AppData\\Local\\Programs\\Python\\Python310\\lib\\site-packages\\gdown\\__main__.py:140: FutureWarning: Option `--id` was deprecated in version 4.3.1 and will be removed in 5.0. You don't need to pass it anymore to use a file ID.\n",
      "  warnings.warn(\n",
      "Downloading...\n",
      "From (original): https://drive.google.com/uc?id=1-0fhqH8tXKPb60C_b4aUHT7f-J4O6Ezq\n",
      "From (redirected): https://drive.google.com/uc?id=1-0fhqH8tXKPb60C_b4aUHT7f-J4O6Ezq&confirm=t&uuid=97c340d1-e000-4d0e-8c4b-a1a57b871ba9\n",
      "To: d:\\madmah\\deep learning course\\matalot\\matala1\\sign-language-recognition\\dataset_labels.npz\n",
      "\n",
      "  0%|          | 0.00/31.4M [00:00<?, ?B/s]\n",
      "  2%|▏         | 524k/31.4M [00:00<00:16, 1.92MB/s]\n",
      "  7%|▋         | 2.10M/31.4M [00:00<00:04, 6.47MB/s]\n",
      " 17%|█▋        | 5.24M/31.4M [00:00<00:01, 14.2MB/s]\n",
      " 28%|██▊       | 8.91M/31.4M [00:00<00:01, 20.7MB/s]\n",
      " 40%|████      | 12.6M/31.4M [00:00<00:00, 25.1MB/s]\n",
      " 52%|█████▏    | 16.3M/31.4M [00:00<00:00, 28.5MB/s]\n",
      " 63%|██████▎   | 19.9M/31.4M [00:00<00:00, 29.4MB/s]\n",
      " 75%|███████▌  | 23.6M/31.4M [00:01<00:00, 30.4MB/s]\n",
      " 87%|████████▋ | 27.3M/31.4M [00:01<00:00, 31.1MB/s]\n",
      " 99%|█████████▊| 30.9M/31.4M [00:01<00:00, 32.5MB/s]\n",
      "100%|██████████| 31.4M/31.4M [00:01<00:00, 24.9MB/s]\n"
     ]
    }
   ],
   "source": [
    "\n",
    "!pip install ipython-autotime\n",
    "!pip install -U --no-cache-dir gdown --pre\n",
    "!gdown --id 1-0fhqH8tXKPb60C_b4aUHT7f-J4O6Ezq\n"
   ]
  },
  {
   "cell_type": "markdown",
   "metadata": {
    "id": "uj30jTHwXNXp"
   },
   "source": [
    "Loading the dataset as NumPy arrays:\n",
    "\n",
    "* The `dataset` file is a NumPy array containing the image pixles. As you can see, it includes 5,000 rows for each image and 784 columns for each pixel in the image (28x28).\n",
    "* The `labels` file is a NumPy array containing the images labels. As you can see, it includes 5,000 rows for each image corresponding to the dataset."
   ]
  },
  {
   "cell_type": "code",
   "execution_count": 13,
   "metadata": {
    "colab": {
     "base_uri": "https://localhost:8080/"
    },
    "id": "nbzv9ZYA2pyW",
    "outputId": "de17c766-98e7-44f3-ef2b-4e784f31e47c"
   },
   "outputs": [
    {
     "name": "stdout",
     "output_type": "stream",
     "text": [
      "Dataset shape: (5000, 784)\n",
      "Labels shape: (5000,)\n",
      "time: 63 ms (started: 2024-12-29 17:54:56 +02:00)\n"
     ]
    }
   ],
   "source": [
    "loaded_data = np.load('dataset_labels.npz')\n",
    "X, y = loaded_data['dataset'], loaded_data['labels']\n",
    "print(f'Dataset shape: {X.shape}\\nLabels shape: {y.shape}')"
   ]
  },
  {
   "cell_type": "markdown",
   "metadata": {
    "id": "GPBGGKtSoVpU"
   },
   "source": [
    "## Data preprocessing (10%)"
   ]
  },
  {
   "cell_type": "markdown",
   "metadata": {
    "id": "i6K01j7A_Z4W"
   },
   "source": [
    "### Select two classes (0 and 5)"
   ]
  },
  {
   "cell_type": "code",
   "execution_count": 14,
   "metadata": {
    "colab": {
     "base_uri": "https://localhost:8080/"
    },
    "id": "7OuPZ0o8DNWq",
    "outputId": "30054f1a-d7d2-4fbc-cb15-856ebc11519a"
   },
   "outputs": [
    {
     "name": "stdout",
     "output_type": "stream",
     "text": [
      "Y_filtered: (1000,) \n",
      " X_filtered: (1000, 784) \n",
      " Y_filtered: ['0' '0' '0' '0' '0' '5' '5' '5' '5' '5']\n",
      "time: 0 ns (started: 2024-12-29 17:54:56 +02:00)\n"
     ]
    }
   ],
   "source": [
    "mask = (y == \"0\") | (y == \"5\")\n",
    "X_filtered = X[mask]\n",
    "Y_filtered = y[mask]\n",
    "\n",
    "print(f'Y_filtered: {Y_filtered.shape} \\n X_filtered: {X_filtered.shape} \\n Y_filtered: {Y_filtered[495:505]}')"
   ]
  },
  {
   "cell_type": "markdown",
   "metadata": {
    "id": "LZfq8otp-wXY"
   },
   "source": [
    "italicized text### Normalizing the data\n",
    "\n",
    "1. Change the pixels values from (0-255) to (0-1)\n",
    "2. Change the labels value from (\"0\",\"5\") to (0,1)\n",
    "\n"
   ]
  },
  {
   "cell_type": "code",
   "execution_count": 15,
   "metadata": {
    "colab": {
     "base_uri": "https://localhost:8080/"
    },
    "id": "7MZtZIzzDIKe",
    "outputId": "23380653-72b5-443f-fcc3-6cc21d020ca8"
   },
   "outputs": [
    {
     "name": "stdout",
     "output_type": "stream",
     "text": [
      "(1, 1000)\n",
      "(784, 1000)\n",
      "time: 15 ms (started: 2024-12-29 17:54:56 +02:00)\n"
     ]
    }
   ],
   "source": [
    "X = X_filtered/255.0\n",
    "Y = (Y_filtered == \"5\").astype(int)\n",
    "\n",
    "X = X.T\n",
    "Y = Y.reshape(1, Y.shape[0])\n",
    "\n",
    "\n",
    "print(Y.shape)\n",
    "print(X.shape)\n"
   ]
  },
  {
   "cell_type": "markdown",
   "metadata": {
    "id": "cn5UPcIQH2jS"
   },
   "source": [
    "### Split the data into Train set and Test set\n"
   ]
  },
  {
   "cell_type": "code",
   "execution_count": 16,
   "metadata": {
    "colab": {
     "base_uri": "https://localhost:8080/"
    },
    "id": "FBUI2DZmhd0y",
    "outputId": "7662cee3-c537-49c3-845c-b7adf649b74c"
   },
   "outputs": [
    {
     "name": "stdout",
     "output_type": "stream",
     "text": [
      "X_train: (784, 800)\n",
      "Y_train: (1, 800)\n",
      "X_test: (784, 200)\n",
      "Y_test: (1, 200)\n",
      "Y_train example: [[0 0 1 0 1 0 1 0 1 1]]\n",
      "time: 47 ms (started: 2024-12-29 17:54:56 +02:00)\n"
     ]
    }
   ],
   "source": [
    "# TODO: Split the data into Train set and Test set (The use of libraries other than Numpy is strictly prohibited)\n",
    "\n",
    "# # Only np\n",
    "# indices = np.random.permutation(len(X))\n",
    "\n",
    "# # Calculate the split point\n",
    "# split_point = int(0.8 * len(X))\n",
    "\n",
    "# # Split the data using the indices\n",
    "# X_train, X_test = X[indices[:split_point]].T, X[indices[split_point:]].T\n",
    "# Y_train, Y_test = Y[indices[:split_point]], Y[indices[split_point:]]\n",
    "\n",
    "# print(f' X_train: {X_train.shape}\\n Y_train: {Y_train.shape}\\n X_test: {X_test.shape}\\n Y_test: {Y_test.shape}')\n",
    "# print(f' Y_train exmple: {Y_train[0:10]}')\n",
    "\n",
    "\n",
    "indices = np.random.permutation(X.shape[1])  # Use X.shape[1] = 1000 for total number of samples\n",
    "\n",
    "# Calculate the split point\n",
    "split_point = int(0.8 * X.shape[1])\n",
    "\n",
    "# Split the data\n",
    "X_train, X_test = X[:, indices[:split_point]], X[:, indices[split_point:]]\n",
    "Y_train, Y_test= Y[:, indices[:split_point]], Y[:, indices[split_point:]]\n",
    "\n",
    "print(f'X_train: {X_train.shape}')\n",
    "print(f'Y_train: {Y_train.shape}')\n",
    "print(f'X_test: {X_test.shape}')\n",
    "print(f'Y_test: {Y_test.shape}')\n",
    "\n",
    "# Example of Y_train\n",
    "print(f'Y_train example: {Y_train[:, :10]}')\n"
   ]
  },
  {
   "cell_type": "markdown",
   "metadata": {
    "id": "gg7D7fwGH9Yv"
   },
   "source": [
    "### Test yourself"
   ]
  },
  {
   "cell_type": "code",
   "execution_count": 17,
   "metadata": {
    "colab": {
     "base_uri": "https://localhost:8080/",
     "height": 441
    },
    "id": "wkLl0PSyDR9S",
    "outputId": "0c285194-64f4-433b-ddf6-aea3710ecc32"
   },
   "outputs": [
    {
     "data": {
      "image/png": "[encoded data removed]",
      "text/plain": [
       "<Figure size 640x480 with 1 Axes>"
      ]
     },
     "metadata": {},
     "output_type": "display_data"
    },
    {
     "data": {
      "text/plain": [
       "1"
      ]
     },
     "execution_count": 17,
     "metadata": {},
     "output_type": "execute_result"
    },
    {
     "name": "stdout",
     "output_type": "stream",
     "text": [
      "time: 172 ms (started: 2024-12-29 17:54:56 +02:00)\n"
     ]
    }
   ],
   "source": [
    "# Test yourself (Check that the classes you have selected are actually displayed)\n",
    "%matplotlib inline\n",
    "from numpy import random\n",
    "\n",
    "i = random.randint(100)\n",
    "plt.imshow(X_train[:,i].reshape(28,28), cmap = matplotlib.cm.binary)\n",
    "plt.axis(\"off\")\n",
    "plt.show()\n",
    "Y_train[0,i]"
   ]
  },
  {
   "cell_type": "markdown",
   "metadata": {
    "id": "Q81OW5M7oCWZ"
   },
   "source": [
    "## Activation functions (10%)"
   ]
  },
  {
   "cell_type": "code",
   "execution_count": 18,
   "metadata": {
    "colab": {
     "base_uri": "https://localhost:8080/"
    },
    "id": "nxruxXBsDmP-",
    "outputId": "67653e98-0aaf-47b1-d0cf-faf903916202"
   },
   "outputs": [
    {
     "name": "stdout",
     "output_type": "stream",
     "text": [
      " sigmoid 0: 0.5\n",
      " sigmoid 1: 0.7310585786300049\n",
      " sigmoid 2 : 0.8807970779778823\n",
      "time: 0 ns (started: 2024-12-29 17:54:56 +02:00)\n"
     ]
    }
   ],
   "source": [
    "def sigmoid(x):\n",
    "    return 1 / (1 + np.exp(-x))\n",
    "\n",
    "print(f' sigmoid 0: {sigmoid(0)}\\n sigmoid 1: {sigmoid(1)}\\n sigmoid 2 : {sigmoid(2)}')\n",
    "\n",
    "\n",
    "# Derivative of sigmoid function\n",
    "def sigmoid_derivative(x): # d/dx(1/(1 + e^(-x))) = e^(-x)/(1 + e^(-x))^2 = 1/(e^x + 1) - 1/(e^x + 1)^2 = 1/(e^x + 1) * (1 - 1/(e^x + 1))\n",
    "    return sigmoid(x) * (1 - sigmoid(x))"
   ]
  },
  {
   "cell_type": "markdown",
   "metadata": {
    "id": "OBIAUcVboOG9"
   },
   "source": [
    "## Loss Function (10%)\n",
    "\n",
    "The BCE Loss function embodies the idea that the neural network should incur a substantial penalty (i.e., Loss tending toward infinity) when the predicted probability diverges significantly from the actual label of the training example. Conversely, the Loss should be zero (Loss = 0) when the predicted probability aligns perfectly with the label of the training example. In simpler terms, the BCE Loss should be zero in the following two situations:\n",
    "\n",
    "- When the example has a positive label (${y} = 1$), the neural network should be entirely confident that the example belongs to the positive class, i.e., ($\\hat{p} = 1 $).\n",
    "- When the example has a negative label (${y} = 0$), the neural network should be entirely confident that the example does not belong to the positive class, i.e., ($\\hat{p} = 0 $).\n",
    "\n",
    "**It's important to note that when working with computers, extremely high or low values can sometimes be unmanageable and might even lead to system crashes. To address this, you must be aware of the range of values that cause the logarithm to yield infinity or negative infinity. Ensure you handle these edge cases within your function.**\n"
   ]
  },
  {
   "cell_type": "code",
   "execution_count": 19,
   "metadata": {
    "colab": {
     "base_uri": "https://localhost:8080/"
    },
    "id": "U0i2o9_KDUdQ",
    "outputId": "5f0007c4-1046-47f7-b939-234d1939ebdc"
   },
   "outputs": [
    {
     "name": "stdout",
     "output_type": "stream",
     "text": [
      "Loss for y=1, y_hat=1: 9.992007221626415e-16\n",
      "Loss for y=0, y_hat=0: 9.992007221626415e-16\n",
      "Loss for y=1, y_hat=0: 34.538776394910684\n",
      "Loss for y=0, y_hat=1: 34.53957599234088\n",
      "Loss for y=1, y_hat=0.5: 0.6931471805599453\n",
      "time: 0 ns (started: 2024-12-29 17:54:56 +02:00)\n"
     ]
    }
   ],
   "source": [
    "def log_loss(y_hat, y):\n",
    "    '''\n",
    "    Logistic loss, assuming a single value in y_hat and y.\n",
    "    '''\n",
    "\n",
    "    # if (y_hat == y):\n",
    "    #   return 0.0\n",
    "\n",
    "    closeToZero = 1e-15  # very small value in order to avoid log(0)\n",
    "    y_hat = np.clip(y_hat, closeToZero, 1 - closeToZero)\n",
    "    # print(f' y_hat {y_hat}')\n",
    "    loss = - (y * np.log(y_hat) + (1 - y) * np.log(1 - y_hat))\n",
    "    return loss\n",
    "\n",
    "print(\"Loss for y=1, y_hat=1:\", log_loss(1, 1))      # Perfect prediction\n",
    "print(\"Loss for y=0, y_hat=0:\", log_loss(0, 0))      # Perfect prediction\n",
    "print(\"Loss for y=1, y_hat=0:\", log_loss(0, 1))      # Total divergence\n",
    "print(\"Loss for y=0, y_hat=1:\", log_loss(1, 0))      # Total divergence\n",
    "print(\"Loss for y=1, y_hat=0.5:\", log_loss(0.5, 1))  # Neutral confidence"
   ]
  },
  {
   "cell_type": "markdown",
   "metadata": {
    "id": "WY9DQPrJmvHZ"
   },
   "source": [
    "## NN Hyper Parameters"
   ]
  },
  {
   "cell_type": "code",
   "execution_count": 20,
   "metadata": {
    "colab": {
     "base_uri": "https://localhost:8080/"
    },
    "id": "qGCU_QYRnJap",
    "outputId": "f12bfac4-9553-42e1-f634-be72f5fcd5a4"
   },
   "outputs": [
    {
     "name": "stdout",
     "output_type": "stream",
     "text": [
      "time: 0 ns (started: 2024-12-29 17:54:56 +02:00)\n"
     ]
    }
   ],
   "source": [
    "input_layer = X_train.shape[0] # 28X28 = 784\n",
    "hidden_layer = 128\n",
    "learning_rate = 0.01\n",
    "epochs = 100"
   ]
  },
  {
   "cell_type": "markdown",
   "metadata": {
    "id": "M6SdHpc2m3vV"
   },
   "source": [
    "## Weight and Bias Initialization"
   ]
  },
  {
   "cell_type": "code",
   "execution_count": 21,
   "metadata": {
    "colab": {
     "base_uri": "https://localhost:8080/"
    },
    "id": "IVRoMGxTnLZI",
    "outputId": "b5f662c7-086b-4105-a19c-c0888109fa94"
   },
   "outputs": [
    {
     "name": "stdout",
     "output_type": "stream",
     "text": [
      "(128, 784)\n",
      "(128, 1)\n",
      "(1, 128)\n",
      "(1, 1)\n",
      "time: 0 ns (started: 2024-12-29 17:54:56 +02:00)\n"
     ]
    }
   ],
   "source": [
    "W1 = np.random.randn(hidden_layer, input_layer)\n",
    "b1 = np.zeros((hidden_layer, 1))\n",
    "W2 = np.random.randn(1, hidden_layer)\n",
    "b2 = np.zeros((1, 1))\n",
    "\n",
    "print(W1.shape)\n",
    "print(b1.shape)\n",
    "print(W2.shape)\n",
    "print(b2.shape)"
   ]
  },
  {
   "cell_type": "markdown",
   "metadata": {
    "id": "fp-IaWECn6Hu"
   },
   "source": [
    "## Training (30%)"
   ]
  },
  {
   "cell_type": "code",
   "execution_count": 22,
   "metadata": {
    "colab": {
     "base_uri": "https://localhost:8080/"
    },
    "id": "4tdlcCGLDo7F",
    "outputId": "b50a3576-9582-457b-fdf1-f8831a6078e8"
   },
   "outputs": [
    {
     "name": "stdout",
     "output_type": "stream",
     "text": [
      "(784, 32)\n",
      "(1, 32)\n",
      "Epoch 0  Loss: 3.4113285925750008\n",
      "Epoch 1  Loss: 1.5490032847172066\n",
      "Epoch 2  Loss: 1.236875698104249\n",
      "Epoch 3  Loss: 1.0497624679869655\n",
      "Epoch 4  Loss: 0.895499826490952\n",
      "Epoch 5  Loss: 0.769040723562973\n",
      "Epoch 6  Loss: 0.6670479902149978\n",
      "Epoch 7  Loss: 0.5851922472915256\n",
      "Epoch 8  Loss: 0.5191788580628074\n",
      "Epoch 9  Loss: 0.4653770140176451\n",
      "Epoch 10  Loss: 0.4209520510534668\n",
      "Epoch 11  Loss: 0.3837892021113564\n",
      "Epoch 12  Loss: 0.3523402430791071\n",
      "Epoch 13  Loss: 0.32546689701363557\n",
      "Epoch 14  Loss: 0.30231546149917404\n",
      "Epoch 15  Loss: 0.2822284600062265\n",
      "Epoch 16  Loss: 0.26468660635844743\n",
      "Epoch 17  Loss: 0.24927180748793276\n",
      "Epoch 18  Loss: 0.2356433355616214\n",
      "Epoch 19  Loss: 0.22352169831869836\n",
      "Epoch 20  Loss: 0.21267690239144835\n",
      "Epoch 21  Loss: 0.20291933426803918\n",
      "Epoch 22  Loss: 0.19409238347341315\n",
      "Epoch 23  Loss: 0.18606638056007369\n",
      "Epoch 24  Loss: 0.17873361199675838\n",
      "Epoch 25  Loss: 0.17200424324177963\n",
      "Epoch 26  Loss: 0.16580300638484463\n",
      "Epoch 27  Loss: 0.16006652305232297\n",
      "Epoch 28  Loss: 0.15474114757759902\n",
      "Epoch 29  Loss: 0.14978123123591142\n",
      "Epoch 30  Loss: 0.1451477244309931\n",
      "Epoch 31  Loss: 0.14080704876600061\n",
      "Epoch 32  Loss: 0.1367301841439469\n",
      "Epoch 33  Loss: 0.13289192715572343\n",
      "Epoch 34  Loss: 0.12927028609411326\n",
      "Epoch 35  Loss: 0.12584598521282286\n",
      "Epoch 36  Loss: 0.12260205661814261\n",
      "Epoch 37  Loss: 0.11952350271953409\n",
      "Epoch 38  Loss: 0.11659701572375253\n",
      "Epoch 39  Loss: 0.11381074344359796\n",
      "Epoch 40  Loss: 0.11115409287562494\n",
      "Epoch 41  Loss: 0.10861756471465363\n",
      "Epoch 42  Loss: 0.10619261332117284\n",
      "Epoch 43  Loss: 0.10387152772185168\n",
      "Epoch 44  Loss: 0.10164733006616117\n",
      "Epoch 45  Loss: 0.09951368863206769\n",
      "Epoch 46  Loss: 0.09746484300839858\n",
      "Epoch 47  Loss: 0.09549553950980867\n",
      "Epoch 48  Loss: 0.09360097522479814\n",
      "Epoch 49  Loss: 0.09177674937545816\n",
      "Epoch 50  Loss: 0.09001882089317703\n",
      "Epoch 51  Loss: 0.08832347129812408\n",
      "Epoch 52  Loss: 0.08668727212031616\n",
      "Epoch 53  Loss: 0.08510705622306786\n",
      "Epoch 54  Loss: 0.08357989249086625\n",
      "Epoch 55  Loss: 0.08210306342732868\n",
      "Epoch 56  Loss: 0.08067404527821624\n",
      "Epoch 57  Loss: 0.07929049035211898\n",
      "Epoch 58  Loss: 0.07795021125952839\n",
      "Epoch 59  Loss: 0.07665116683127664\n",
      "Epoch 60  Loss: 0.07539144951113055\n",
      "Epoch 61  Loss: 0.07416927404580692\n",
      "Epoch 62  Loss: 0.07298296731973206\n",
      "Epoch 63  Loss: 0.07183095920225513\n",
      "Epoch 64  Loss: 0.07071177429234857\n",
      "Epoch 65  Loss: 0.06962402446059456\n",
      "Epoch 66  Loss: 0.06856640210088057\n",
      "Epoch 67  Loss: 0.0675376740150483\n",
      "Epoch 68  Loss: 0.06653667586305036\n",
      "Epoch 69  Loss: 0.06556230711919414\n",
      "Epoch 70  Loss: 0.06461352648200154\n",
      "Epoch 71  Loss: 0.0636893476912392\n",
      "Epoch 72  Loss: 0.06278883571092256\n",
      "Epoch 73  Loss: 0.06191110324167857\n",
      "Epoch 74  Loss: 0.06105530752986471\n",
      "Epoch 75  Loss: 0.06022064744436648\n",
      "Epoch 76  Loss: 0.05940636079509955\n",
      "Epoch 77  Loss: 0.05861172186998402\n",
      "Epoch 78  Loss: 0.05783603916958665\n",
      "Epoch 79  Loss: 0.05707865332077846\n",
      "Epoch 80  Loss: 0.056338935152673006\n",
      "Epoch 81  Loss: 0.05561628391981484\n",
      "Epoch 82  Loss: 0.05491012565911147\n",
      "Epoch 83  Loss: 0.05421991166836264\n",
      "Epoch 84  Loss: 0.05354511709545835\n",
      "Epoch 85  Loss: 0.05288523962840626\n",
      "Epoch 86  Loss: 0.052239798277327686\n",
      "Epoch 87  Loss: 0.05160833224043634\n",
      "Epoch 88  Loss: 0.05099039984679993\n",
      "Epoch 89  Loss: 0.05038557756939083\n",
      "Epoch 90  Loss: 0.04979345910256382\n",
      "Epoch 91  Loss: 0.04921365449866727\n",
      "Epoch 92  Loss: 0.048645789359004474\n",
      "Epoch 93  Loss: 0.04808950407481806\n",
      "Epoch 94  Loss: 0.047544453114381914\n",
      "Epoch 95  Loss: 0.047010304352653604\n",
      "Epoch 96  Loss: 0.04648673844026921\n",
      "Epoch 97  Loss: 0.045973448208961584\n",
      "Epoch 98  Loss: 0.04547013811074683\n",
      "Epoch 99  Loss: 0.04497652368846438\n",
      "time: 2.66 s (started: 2024-12-29 17:54:56 +02:00)\n"
     ]
    }
   ],
   "source": [
    "X = X_train\n",
    "Y = Y_train\n",
    "loss_list = []\n",
    "epoch_list = []\n",
    "num_of_examples = X.shape[1]\n",
    "batch_size = 32\n",
    "\n",
    "X_batch = X[:, 0:32]\n",
    "Y_batch = Y[:,0:32]\n",
    "\n",
    "print(X_batch.shape)\n",
    "print(Y_batch.shape)\n",
    "\n",
    "for i in range(epochs):\n",
    "  avg_epoch_loss = 0\n",
    "  for j in range(0, num_of_examples, batch_size):\n",
    "          # Handle batches of examples\n",
    "          batch_end = min(j + batch_size, num_of_examples)\n",
    "          X_batch = X[:, j:batch_end]\n",
    "          Y_batch = Y[:,j:batch_end]\n",
    "\n",
    "          # Forward propagation (vectorized for batch)\n",
    "          Z1 = np.matmul(W1, X_batch) + b1\n",
    "          A1 = sigmoid(Z1)  # Store sigmoid output for reuse\n",
    "          Z2 = np.matmul(W2, A1) + b2\n",
    "          A2 = sigmoid(Z2)\n",
    "\n",
    "          # Compute loss for the batch (vectorized)\n",
    "          loss = log_loss(A2, Y_batch) # Assuming log_loss handles batches\n",
    "          avg_epoch_loss += np.sum(loss) # Accumulate loss for the batch\n",
    "\n",
    "\n",
    "          # Back propagation (vectorized for batch)\n",
    "          dZ2 = (A2 - Y_batch.reshape(1, -1)) # Reshape Y_batch for proper subtraction\n",
    "          dW2 = np.matmul(dZ2, A1.T) / batch_size # Average over batch\n",
    "          db2 = np.sum(dZ2, axis=1, keepdims=True) / batch_size # Average over batch\n",
    "\n",
    "          dA1 = np.matmul(W2.T, dZ2)\n",
    "          dZ1 = np.multiply(dA1, sigmoid_derivative(Z1)) # Reuse sigmoid output (A1)\n",
    "          dW1 = np.matmul(dZ1, X_batch.T) / batch_size # Average over batch\n",
    "          db1 = np.sum(dZ1, axis=1, keepdims=True) / batch_size # Average over batch\n",
    "\n",
    "          # Update weights\n",
    "          W2 = W2 - learning_rate * dW2\n",
    "          b2 = b2 - learning_rate * db2\n",
    "          W1 = W1 - learning_rate * dW1\n",
    "          b1 = b1 - learning_rate * db1\n",
    "\n",
    "\n",
    "  avg_epoch_loss = avg_epoch_loss/num_of_examples\n",
    "  loss_list.append(avg_epoch_loss)\n",
    "  epoch_list.append(i)\n",
    "  print(\"Epoch\", i,\" Loss:\", avg_epoch_loss)\n",
    "\n",
    "\n",
    "# Single Traing\n",
    "\n",
    "# X = X_train\n",
    "# Y = Y_train\n",
    "# loss_list = []\n",
    "# epoch_list = []\n",
    "\n",
    "# for i in range(epochs):\n",
    "#     avg_epoch_loss = 0\n",
    "#     for j in range(X.shape[1]):  # Iterate through each example individually\n",
    "#         # Forward propagation for a single example\n",
    "#         x = X[:, j].reshape(-1, 1)  # Reshape to a column vector\n",
    "#         y = Y[j]\n",
    "\n",
    "#         Z1 = np.matmul(W1, x) + b1\n",
    "#         A1 = sigmoid(Z1)\n",
    "#         Z2 = np.matmul(W2, A1) + b2\n",
    "#         A2 = sigmoid(Z2)\n",
    "\n",
    "#         # Compute loss for the single example\n",
    "#         loss = log_loss(A2[0, 0], y) # Get the single loss value\n",
    "#         avg_epoch_loss += loss  # Accumulate loss for the epoch\n",
    "\n",
    "#         # Back propagation for a single example\n",
    "#         dZ2 = (A2 - y) # No need to reshape Y\n",
    "#         dW2 = np.matmul(dZ2, A1.T)\n",
    "#         db2 = dZ2\n",
    "\n",
    "#         dA1 = np.matmul(W2.T, dZ2)\n",
    "#         dZ1 = np.multiply(dA1, sigmoid_derivative(Z1))\n",
    "#         dW1 = np.matmul(dZ1, x.T)\n",
    "#         db1 = dZ1\n",
    "\n",
    "#         # Update weights (no averaging needed)\n",
    "#         W2 = W2 - learning_rate * dW2\n",
    "#         b2 = b2 - learning_rate * db2\n",
    "#         W1 = W1 - learning_rate * dW1\n",
    "#         b1 = b1 - learning_rate * db1\n",
    "\n",
    "#     avg_epoch_loss = avg_epoch_loss / X.shape[1]  # Calculate average loss for the epoch\n",
    "#     loss_list.append(avg_epoch_loss)\n",
    "#     epoch_list.append(i)\n",
    "#     print(\"Epoch\", i, \"Loss:\", avg_epoch_loss)"
   ]
  },
  {
   "cell_type": "markdown",
   "metadata": {
    "id": "TdgCk97534-B"
   },
   "source": [
    "### Loss Visualization"
   ]
  },
  {
   "cell_type": "code",
   "execution_count": 23,
   "metadata": {
    "colab": {
     "base_uri": "https://localhost:8080/",
     "height": 484
    },
    "id": "RFo9NN5Q31X8",
    "outputId": "c8d51398-2208-4f11-8cf2-c7f74e081fa6"
   },
   "outputs": [
    {
     "data": {
      "text/plain": [
       "[<matplotlib.lines.Line2D at 0x20e61e160b0>]"
      ]
     },
     "execution_count": 23,
     "metadata": {},
     "output_type": "execute_result"
    },
    {
     "data": {
      "image/png": "[encoded data removed]",
      "text/plain": [
       "<Figure size 640x480 with 1 Axes>"
      ]
     },
     "metadata": {},
     "output_type": "display_data"
    },
    {
     "name": "stdout",
     "output_type": "stream",
     "text": [
      "time: 141 ms (started: 2024-12-29 17:54:59 +02:00)\n"
     ]
    }
   ],
   "source": [
    "import matplotlib.pyplot as plt\n",
    "plt.xlabel('Epoch Number')\n",
    "plt.ylabel(\"Loss\")\n",
    "plt.plot(epoch_list, loss_list)"
   ]
  },
  {
   "cell_type": "markdown",
   "metadata": {
    "id": "5HV5g7j92Xfn"
   },
   "source": [
    "## Results"
   ]
  },
  {
   "cell_type": "markdown",
   "metadata": {
    "id": "raBFclM5ploH"
   },
   "source": [
    "### Test your performance (20%)"
   ]
  },
  {
   "cell_type": "code",
   "execution_count": 24,
   "metadata": {
    "colab": {
     "base_uri": "https://localhost:8080/",
     "height": 772
    },
    "id": "flfh-luxDs7Z",
    "outputId": "8d6f29e8-b7e5-48ac-a401-86aceed1b9eb"
   },
   "outputs": [
    {
     "name": "stdout",
     "output_type": "stream",
     "text": [
      "[[101   0]\n",
      " [  3  96]]\n",
      "              precision    recall  f1-score   support\n",
      "\n",
      "         0.0       0.97      1.00      0.99       101\n",
      "         1.0       1.00      0.97      0.98        99\n",
      "\n",
      "    accuracy                           0.98       200\n",
      "   macro avg       0.99      0.98      0.98       200\n",
      "weighted avg       0.99      0.98      0.98       200\n",
      "\n"
     ]
    },
    {
     "data": {
      "image/png": "[encoded data removed]",
      "text/plain": [
       "<Figure size 800x600 with 2 Axes>"
      ]
     },
     "metadata": {},
     "output_type": "display_data"
    },
    {
     "name": "stdout",
     "output_type": "stream",
     "text": [
      "time: 484 ms (started: 2024-12-29 17:54:59 +02:00)\n"
     ]
    }
   ],
   "source": [
    "#TODO: Forward batch of examples\n",
    "X = X_test\n",
    "Y = Y_test\n",
    "\n",
    "Z1 = np.matmul(W1, X_test) + b1\n",
    "A1 = sigmoid(Z1)\n",
    "Z2 = np.matmul(W2, A1) + b2\n",
    "A2 = sigmoid(Z2)\n",
    "\n",
    "predictions = np.zeros((1,Y.shape[1]))\n",
    "labels = np.zeros((1,Y.shape[1]))\n",
    "\n",
    "# Check your predictions against the test's labels\n",
    "for i in range(Y.shape[1]):\n",
    "  if (A2[0,i] > 0.5):\n",
    "    predictions[0,i] = 1\n",
    "  labels[0,i] = Y[0,i]\n",
    "\n",
    "cm = confusion_matrix(predictions.T, labels.T)\n",
    "\n",
    "# Print the confusion matrix In order to test your performance\n",
    "print(cm)\n",
    "print(classification_report(predictions.T, labels.T))\n",
    "\n",
    "# plot CM heatmap\n",
    "import seaborn as sns\n",
    "plt.figure(figsize=(8, 6))\n",
    "sns.heatmap(cm, annot=True, fmt='d', cmap='Blues')\n",
    "plt.xlabel('Predicted')\n",
    "plt.ylabel('Actual')\n",
    "plt.title('Confusion Matrix')\n",
    "plt.show()"
   ]
  },
  {
   "cell_type": "markdown",
   "metadata": {
    "id": "7FtZr0EQBlcm"
   },
   "source": [
    "### Visualize the results"
   ]
  },
  {
   "cell_type": "code",
   "execution_count": 25,
   "metadata": {
    "colab": {
     "base_uri": "https://localhost:8080/",
     "height": 1000
    },
    "id": "gAj_5W2wVUrI",
    "outputId": "44fece74-96e0-4aad-e712-43ea71fa6c53"
   },
   "outputs": [
    {
     "data": {
      "image/png": "[encoded data removed]",
      "text/plain": [
       "<Figure size 640x480 with 1 Axes>"
      ]
     },
     "metadata": {},
     "output_type": "display_data"
    },
    {
     "name": "stdout",
     "output_type": "stream",
     "text": [
      "Real= 0 Predicted= [[0.06622164]]\n"
     ]
    },
    {
     "data": {
      "image/png": "[encoded data removed]",
      "text/plain": [
       "<Figure size 640x480 with 1 Axes>"
      ]
     },
     "metadata": {},
     "output_type": "display_data"
    },
    {
     "name": "stdout",
     "output_type": "stream",
     "text": [
      "Real= 1 Predicted= [[0.97413996]]\n"
     ]
    },
    {
     "data": {
      "image/png": "[encoded data removed]",
      "text/plain": [
       "<Figure size 640x480 with 1 Axes>"
      ]
     },
     "metadata": {},
     "output_type": "display_data"
    },
    {
     "name": "stdout",
     "output_type": "stream",
     "text": [
      "Real= 1 Predicted= [[0.89440067]]\n"
     ]
    },
    {
     "data": {
      "image/png": "[encoded data removed]",
      "text/plain": [
       "<Figure size 640x480 with 1 Axes>"
      ]
     },
     "metadata": {},
     "output_type": "display_data"
    },
    {
     "name": "stdout",
     "output_type": "stream",
     "text": [
      "Real= 0 Predicted= [[0.06722262]]\n"
     ]
    },
    {
     "data": {
      "image/png": "[encoded data removed]",
      "text/plain": [
       "<Figure size 640x480 with 1 Axes>"
      ]
     },
     "metadata": {},
     "output_type": "display_data"
    },
    {
     "name": "stdout",
     "output_type": "stream",
     "text": [
      "Real= 0 Predicted= [[4.07450614e-05]]\n"
     ]
    },
    {
     "data": {
      "image/png": "[encoded data removed]",
      "text/plain": [
       "<Figure size 640x480 with 1 Axes>"
      ]
     },
     "metadata": {},
     "output_type": "display_data"
    },
    {
     "name": "stdout",
     "output_type": "stream",
     "text": [
      "Real= 1 Predicted= [[0.99186049]]\n"
     ]
    },
    {
     "data": {
      "image/png": "[encoded data removed]",
      "text/plain": [
       "<Figure size 640x480 with 1 Axes>"
      ]
     },
     "metadata": {},
     "output_type": "display_data"
    },
    {
     "name": "stdout",
     "output_type": "stream",
     "text": [
      "Real= 1 Predicted= [[0.98528437]]\n"
     ]
    },
    {
     "data": {
      "image/png": "[encoded data removed]",
      "text/plain": [
       "<Figure size 640x480 with 1 Axes>"
      ]
     },
     "metadata": {},
     "output_type": "display_data"
    },
    {
     "name": "stdout",
     "output_type": "stream",
     "text": [
      "Real= 0 Predicted= [[0.0222015]]\n"
     ]
    },
    {
     "data": {
      "image/png": "[encoded data removed]",
      "text/plain": [
       "<Figure size 640x480 with 1 Axes>"
      ]
     },
     "metadata": {},
     "output_type": "display_data"
    },
    {
     "name": "stdout",
     "output_type": "stream",
     "text": [
      "Real= 0 Predicted= [[0.15857679]]\n"
     ]
    },
    {
     "data": {
      "image/png": "[encoded data removed]",
      "text/plain": [
       "<Figure size 640x480 with 1 Axes>"
      ]
     },
     "metadata": {},
     "output_type": "display_data"
    },
    {
     "name": "stdout",
     "output_type": "stream",
     "text": [
      "Real= 0 Predicted= [[0.15857679]]\n",
      "time: 437 ms (started: 2024-12-29 17:55:00 +02:00)\n"
     ]
    }
   ],
   "source": [
    "#TODO: SHOW VISUALLY RESULTS ON 10 TEST EXAMPLES\n",
    "%matplotlib inline\n",
    "from numpy import random\n",
    "for example in range(10):\n",
    "  i = random.randint(200)\n",
    "  plt.imshow(X_test[:,i].reshape(28,28), cmap = matplotlib.cm.binary)\n",
    "  plt.axis(\"off\")\n",
    "  plt.show()\n",
    "  Y_test[0,i]\n",
    "\n",
    "  # TODO :  Forward propagation\n",
    "  Z1 = np.matmul(W1,X_test[:,i])\n",
    "  A1 = sigmoid(Z1)\n",
    "  Z2 = np.matmul(W2, A1) + b2\n",
    "  A2 = sigmoid(Z2)\n",
    "\n",
    "  Yout = Y[0,i]\n",
    "  print(\"Real=\", Y_test[0,i], \"Predicted=\",A2)"
   ]
  }
 ],
 "metadata": {
  "colab": {
   "collapsed_sections": [
    "i6K01j7A_Z4W",
    "raBFclM5ploH",
    "7FtZr0EQBlcm"
   ],
   "provenance": []
  },
  "kernelspec": {
   "display_name": "Python 3",
   "name": "python3"
  },
  "language_info": {
   "codemirror_mode": {
    "name": "ipython",
    "version": 3
   },
   "file_extension": ".py",
   "mimetype": "text/x-python",
   "name": "python",
   "nbconvert_exporter": "python",
   "pygments_lexer": "ipython3",
   "version": "3.10.6"
  }
 },
 "nbformat": 4,
 "nbformat_minor": 0
}
